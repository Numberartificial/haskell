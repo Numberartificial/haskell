{
 "metadata": {
  "language_info": {
   "codemirror_mode": {
    "name": "ipython",
    "version": 3
   },
   "file_extension": ".py",
   "mimetype": "text/x-python",
   "name": "python",
   "nbconvert_exporter": "python",
   "pygments_lexer": "ipython3",
   "version": "3.8.5"
  },
  "orig_nbformat": 2,
  "kernelspec": {
   "name": "python385jvsc74a57bd0e134e05457d34029b6460cd73bbf1ed73f339b5b6d98c95be70b69eba114fe95",
   "display_name": "Python 3.8.5 64-bit ('base': conda)"
  }
 },
 "nbformat": 4,
 "nbformat_minor": 2,
 "cells": [
  {
   "source": [
    "# Monoid and Semigroup"
   ],
   "cell_type": "markdown",
   "metadata": {}
  },
  {
   "source": [
    "> A monoid is a binary associative operation with an identity."
   ],
   "cell_type": "markdown",
   "metadata": {}
  },
  {
   "cell_type": "code",
   "execution_count": null,
   "metadata": {},
   "outputs": [],
   "source": [
    "class Monoid m where\n",
    "  mempty :: m\n",
    "  mappend :: m -> m -> m\n",
    "  mconcat :: [m] -> m\n",
    "  mconcat = foldr mappend mempty"
   ]
  }
 ]
}